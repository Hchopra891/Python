{
 "cells": [
  {
   "cell_type": "markdown",
   "id": "e11ce7db",
   "metadata": {},
   "source": [
    "## Let's create a BMI (body mass index) calculator. \n",
    "\n",
    "https://www.calculatorsoup.com/calculators/health/bmi-calculator.php"
   ]
  },
  {
   "cell_type": "markdown",
   "id": "e1efface",
   "metadata": {},
   "source": [
    "We will use the height and weight. A BMI is calcualted by the weight and height.It is calculated as kg per square meter or pounds per square inch of height. Numeric BMI values correspond to weight categories including underweight, normal, overweight and obese.\n",
    "\n",
    "BMI= (weight in pounds (lb) * 730 ) / (height in inches * height in inches)\n",
    "\n",
    "BMI\tScale: \n",
    "* ≤ 18.4\tUnderweight\n",
    "* 18.5 - 24.9\tNormal\n",
    "* 25.0 - 39.9\tOverweight\n",
    "* ≥ 40.0\tObese"
   ]
  },
  {
   "cell_type": "code",
   "execution_count": null,
   "id": "7cf5966d",
   "metadata": {},
   "outputs": [],
   "source": [
    "name= input('Enter Your name: ')\n",
    "while input(\"\\nWelcome to BMI Calculator: \\n\\nDo You Want To Continue Calculating your BMI? Types y for Yes| n for No [y/n]\") == 'y' :   \n",
    "    ## using while loop to ask user if they want to continue or end the session .\n",
    "\n",
    "    \n",
    "    \n",
    "    weight= None\n",
    "    while weight is None:\n",
    "        try : \n",
    "            weight = float(input ('Please enter your Weight in pounds (lbs): '))\n",
    "        except ValueError:\n",
    "            print('Invalid Integer! Plese enter Integer Value Only, not a string or anything else. ')\n",
    "    print(f\" The Value you enter was {weight}\")\n",
    "    \n",
    "    ## using try-except block here just to take int as input from user.\n",
    "\n",
    "\n",
    "    height= None\n",
    "    while height is None:\n",
    "        try : \n",
    "            height = float(input ('Please enter your Height (inches)\\n 1 feet is 12 inches: '))\n",
    "        except ValueError:\n",
    "            print('Invalid Integer! Plese enter Integer Value Only, not a string or anything else.')\n",
    "    print(f\" The Value you enter was {height}\")\n",
    "   \n",
    "    ## using try-except block to restrcit user to enter only num for height.\n",
    "\n",
    "    print('\\n')\n",
    "    print('Weight for the person is: ',weight, 'lbs.')\n",
    "    print('\\n')\n",
    "    print('Height for the person is: ', height, 'inches.')\n",
    "    print('\\n')\n",
    "\n",
    "    try :\n",
    "        BMI = round((float(weight * 730) / float(height * height)),2)\n",
    "\n",
    "    ## using try except here for division by error, as division by zero leads to infinity. \n",
    "\n",
    "        print('Your BMI according the data enters is :',BMI)\n",
    "\n",
    "        print('\\n')\n",
    "        print(\"Here is what you BMI lies in the BMI Scale:\")\n",
    "\n",
    "        if BMI >0: \n",
    "            if (BMI <= 18.4):\n",
    "                print(name,'\\nYou are underweight. You need to gain some weight and put on some muscles. Need to exercise.\\n')\n",
    "    \n",
    "            elif BMI >= 18.5 and BMI <= 24.9:\n",
    "                print(name,'\\nYou are Normal. You can maintain the same diet and exercise routine.\\n')\n",
    "    \n",
    "            elif BMI >= 25 and BMI <= 39.9:\n",
    "                print(name,'\\nYou are  Overweight. Need to workout.\\n')\n",
    "    \n",
    "            else:\n",
    "                print(name,'\\nYou are Obese. You need to change your diet and exercise routine.\\n')\n",
    "        else: \n",
    "            print(name,'Please enter the numbers above 0. As with zero(0) nothing can be calculated.\\n')\n",
    "    \n",
    "    ## using nested if statements to see in what category user data falls in.\n",
    "    \n",
    "    \n",
    "    except ZeroDivisionError:\n",
    "        print(name,' ,Cannot divide by zero.')\n",
    "        print('\\nPlease enter number above 0. ')\n",
    "    \n",
    "else: \n",
    "    print(name,\"\\nYou didn't y for Yes, so the calculator didn't take your request.\")\n",
    "    print('\\nThank You. ',name,' Please run the code again to use the Calculator and press y for Yes.')\n",
    "    \n",
    "    ## using else block here with while, if user opts not use the BMI calcultor."
   ]
  },
  {
   "cell_type": "code",
   "execution_count": null,
   "id": "3937d5b0",
   "metadata": {},
   "outputs": [],
   "source": []
  }
 ],
 "metadata": {
  "kernelspec": {
   "display_name": "Python 3 (ipykernel)",
   "language": "python",
   "name": "python3"
  },
  "language_info": {
   "codemirror_mode": {
    "name": "ipython",
    "version": 3
   },
   "file_extension": ".py",
   "mimetype": "text/x-python",
   "name": "python",
   "nbconvert_exporter": "python",
   "pygments_lexer": "ipython3",
   "version": "3.10.9"
  }
 },
 "nbformat": 4,
 "nbformat_minor": 5
}

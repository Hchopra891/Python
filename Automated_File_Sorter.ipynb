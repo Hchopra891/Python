{
 "cells": [
  {
   "cell_type": "markdown",
   "id": "73a42f5b",
   "metadata": {},
   "source": [
    "### Automated File Sorter in File Explorer"
   ]
  },
  {
   "cell_type": "code",
   "execution_count": 1,
   "id": "d58d186a",
   "metadata": {},
   "outputs": [],
   "source": [
    "import os, shutil\n",
    "\n",
    "\n",
    "## shutil performs file-related tasks such as copying,moving, renaming, etc"
   ]
  },
  {
   "cell_type": "code",
   "execution_count": 2,
   "id": "90f82598",
   "metadata": {},
   "outputs": [
    {
     "data": {
      "text/plain": [
       "'/Users/himanshuchopra/Desktop/Desktop/Github/test/'"
      ]
     },
     "execution_count": 2,
     "metadata": {},
     "output_type": "execute_result"
    }
   ],
   "source": [
    "# copy the path\n",
    "\n",
    "path = r'/Users/himanshuchopra/Desktop/Desktop/Github/test/'\n",
    "path"
   ]
  },
  {
   "cell_type": "code",
   "execution_count": 3,
   "id": "74a945ab",
   "metadata": {},
   "outputs": [
    {
     "data": {
      "text/plain": [
       "'/Users/himanshuchopra/Desktop/Desktop/Github/Python'"
      ]
     },
     "execution_count": 3,
     "metadata": {},
     "output_type": "execute_result"
    }
   ],
   "source": [
    "pwd"
   ]
  },
  {
   "cell_type": "code",
   "execution_count": 4,
   "id": "9d920b5c",
   "metadata": {},
   "outputs": [
    {
     "data": {
      "text/plain": [
       "['text files', '.DS_Store', 'image files', 'HimanshuChopra.txt', 'csv files']"
      ]
     },
     "execution_count": 4,
     "metadata": {},
     "output_type": "execute_result"
    }
   ],
   "source": [
    "file_name = os.listdir(path)\n",
    "file_name\n",
    "## all the file in the path"
   ]
  },
  {
   "cell_type": "code",
   "execution_count": 5,
   "id": "f1025d13",
   "metadata": {},
   "outputs": [],
   "source": [
    "folder_names = ['csv files', 'image files', 'text files']\n",
    "\n",
    "for loop in range(0,3):\n",
    "    if not os.path.exists(path +folder_names[loop] ):\n",
    "        print(path +folder_names[loop] )   \n",
    "        os.makedirs(path +folder_names[loop] )"
   ]
  },
  {
   "cell_type": "code",
   "execution_count": 6,
   "id": "422aef98",
   "metadata": {},
   "outputs": [
    {
     "data": {
      "text/plain": [
       "['text files', '.DS_Store', 'image files', 'HimanshuChopra.txt', 'csv files']"
      ]
     },
     "execution_count": 6,
     "metadata": {},
     "output_type": "execute_result"
    }
   ],
   "source": [
    "file_name"
   ]
  },
  {
   "cell_type": "code",
   "execution_count": 10,
   "id": "a1b1e4e0",
   "metadata": {},
   "outputs": [
    {
     "name": "stdout",
     "output_type": "stream",
     "text": [
      "All moved Already\n"
     ]
    }
   ],
   "source": [
    "for file in file_name:\n",
    "    if \".png\" in file and not os.path.exists(path +\"image files/\"+ file):\n",
    "        \n",
    "        shutil.move(path + file , path + \"image files/\" + file )\n",
    "    elif \".csv\" in file and not os.path.exists(path +\"csv files/\"+ file):\n",
    "        \n",
    "        shutil.move(path + file , path + \"csv files/\" + file )\n",
    "    elif \".txt\" in file and not os.path.exists(path +\"text files/\"+ file):\n",
    "        \n",
    "        shutil.move(path + file , path + \"text files/\" + file )\n",
    "else:\n",
    "        print('All moved Already')"
   ]
  },
  {
   "cell_type": "code",
   "execution_count": 9,
   "id": "775836b4",
   "metadata": {},
   "outputs": [
    {
     "data": {
      "text/plain": [
       "['text files', '.DS_Store', 'image files', 'HimanshuChopra.txt', 'csv files']"
      ]
     },
     "execution_count": 9,
     "metadata": {},
     "output_type": "execute_result"
    }
   ],
   "source": [
    "file_name"
   ]
  }
 ],
 "metadata": {
  "kernelspec": {
   "display_name": "Python 3 (ipykernel)",
   "language": "python",
   "name": "python3"
  },
  "language_info": {
   "codemirror_mode": {
    "name": "ipython",
    "version": 3
   },
   "file_extension": ".py",
   "mimetype": "text/x-python",
   "name": "python",
   "nbconvert_exporter": "python",
   "pygments_lexer": "ipython3",
   "version": "3.10.9"
  }
 },
 "nbformat": 4,
 "nbformat_minor": 5
}
